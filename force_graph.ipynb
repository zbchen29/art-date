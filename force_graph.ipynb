{
 "cells": [
  {
   "cell_type": "code",
   "execution_count": 2,
   "metadata": {},
   "outputs": [],
   "source": [
    "import torch"
   ]
  },
  {
   "cell_type": "code",
   "execution_count": 34,
   "metadata": {},
   "outputs": [],
   "source": [
    "# Average Euclidean center of all image outputs for each culture using best model\n",
    "culture_tensors = {\n",
    "    \"american\" : torch.tensor([[ 7.0664,  1.6778, -1.8836, -0.8605, -1.1828,  0.9407, -0.0519, -1.8947, -1.8577, -0.9771, -0.6822]]),\n",
    "    \"british\" : torch.tensor([[ 1.3715e+00,  3.6504e+00, -2.1580e+00, -2.0042e-03,  3.3697e-01, 2.0065e+00,  9.8763e-01, -2.6181e+00, -1.0272e+00, -2.6346e+00, -2.5038e-01]]),\n",
    "    \"chinese\" : torch.tensor([[-0.6801, -1.5646,  7.2309, -1.5411, -1.5731, -0.1273, -1.0995,  0.2166, -1.4205,  2.1701, -0.9345]]),\n",
    "    \"dutch\" : torch.tensor([[-0.7726,  0.0573, -2.4268,  3.7708,  0.8802,  1.4279,  1.2017, -3.0107, 1.2312, -3.2050,  0.4194]]),\n",
    "    \"flemish\" : torch.tensor([[-0.5941,  0.9288, -2.2716,  1.5399,  1.8579,  1.8715,  0.8328, -2.9006, 1.2896, -2.9780,  0.3761]]),\n",
    "    \"french\" : torch.tensor([[ 0.2759,  0.8285, -2.0896,  0.7542,  0.6249,  3.9568,  0.4689, -3.0201, 0.2730, -2.1955, -0.0474]]),\n",
    "    \"german\" : torch.tensor([[-0.1850,  0.7377, -2.0441,  1.2382,  0.3095,  1.1902,  1.7258, -2.0748, 1.1933, -2.6024,  0.3569]]),\n",
    "    \"indian\" : torch.tensor([[-0.6212, -2.5173,  1.3177, -2.3141, -2.8249, -1.3583, -0.5100,  7.6875, -0.5083,  0.6289,  0.6106]]),\n",
    "    \"italian\" : torch.tensor([[-1.8449, -1.1914, -2.2632,  0.9813,  0.5290,  0.8880,  1.4288, -1.7552, 5.1137, -2.9153,  0.9664]]),\n",
    "    \"japanese\" : torch.tensor([[ 0.1553, -2.1064,  2.4003, -2.0872, -2.0149, -0.1749, -1.4981,  0.2818, -1.4746,  8.0753, -0.9232]]),\n",
    "    \"spanish\" : torch.tensor([[-0.6073, -0.2381, -1.3960,  0.5750,  0.0869,  1.0328,  0.6943, -0.9015, 0.9975, -2.0954,  1.6449]])\n",
    "}\n",
    "\n",
    "culture_categories_list = [\"american\",\n",
    "                           \"british\",\n",
    "                           \"chinese\",\n",
    "                           \"dutch\",\n",
    "                           \"flemish\",\n",
    "                           \"french\",\n",
    "                           \"german\",\n",
    "                           \"indian\",\n",
    "                           \"italian\",\n",
    "                           \"japanese\",\n",
    "                           \"spanish\"]"
   ]
  },
  {
   "cell_type": "code",
   "execution_count": 35,
   "metadata": {},
   "outputs": [],
   "source": [
    "def compute_distance_between_cultures(culture1, culture2):\n",
    "    '''Computes the Euclidean distance between two culture centers'''\n",
    "    return torch.dist(culture_tensors[culture1], culture_tensors[culture2]).item()\n",
    "\n",
    "def compute_all_distances_from_culture(culture1):\n",
    "    '''Computes the Eucliean distance of all cultures from the specified culture'''\n",
    "    results = []\n",
    "    for culture2 in culture_categories_list:\n",
    "        results.append((culture2, compute_distance_between_cultures(culture1, culture2)))\n",
    "    \n",
    "    return [x[1] for x in results]"
   ]
  },
  {
   "cell_type": "code",
   "execution_count": 350,
   "metadata": {},
   "outputs": [
    {
     "name": "stdout",
     "output_type": "stream",
     "text": [
      "[[0.0, 0.7041040804913669, 0.026126913890875698, 0.08089892115121033, 0.12286788353134752, 0.24557285239252352, 0.19594905894835893, 0.018798717408424627, 0.03545577192485212, 0.02545575523266843, 0.16011853553734343], [0.7041040804913669, 0.0, 0.02807045293468163, 1.0860269205854574, 4.417886130146166, 9.7934958880144, 6.138549045675308, 0.017487698450727663, 0.196884031308188, 0.017682331372963635, 1.7296742318345637], [0.026126913890875698, 0.02807045293468163, 0.0, 0.021185362099901673, 0.026229905523543068, 0.032930318185952344, 0.036848053407961295, 0.09679015871882281, 0.021223628474823907, 0.3607193219103204, 0.06348635358468732], [0.08089892115121033, 1.0860269205854574, 0.021185362099901673, 0.0, 73.15142349694368, 5.548171731363203, 38.22087766051377, 0.014869012193512091, 2.4068789522433227, 0.012655159743940972, 5.827918410762714], [0.12286788353134752, 4.417886130146166, 0.026229905523543068, 73.15142349694368, 0.0, 38.34474214229145, 194.18978798282697, 0.01720476056242843, 2.9725221196117744, 0.015461522693557515, 15.24468758471025], [0.24557285239252352, 9.7934958880144, 0.032930318185952344, 5.548171731363203, 38.34474214229145, 0.0, 20.64407964192953, 0.018171874897910355, 0.7127281485648991, 0.021486881208737246, 6.184229918590594], [0.19594905894835893, 6.138549045675308, 0.036848053407961295, 38.22087766051377, 194.18978798282697, 20.64407964192953, 0.0, 0.028713372149679908, 4.046632958248627, 0.02148216606109066, 94.29176776592747], [0.018798717408424627, 0.017487698450727663, 0.09679015871882281, 0.014869012193512091, 0.01720476056242843, 0.018171874897910355, 0.028713372149679908, 0.0, 0.022861397198078816, 0.06527058944468872, 0.06198675509719636], [0.03545577192485212, 0.196884031308188, 0.021223628474823907, 2.4068789522433227, 2.9725221196117744, 0.7127281485648991, 4.046632958248627, 0.022861397198078816, 0.0, 0.01330299647839916, 3.9770396891395667], [0.02545575523266843, 0.017682331372963635, 0.3607193219103204, 0.012655159743940972, 0.015461522693557515, 0.021486881208737246, 0.02148216606109066, 0.06527058944468872, 0.01330299647839916, 0.0, 0.034086496644936036], [0.16011853553734343, 1.7296742318345637, 0.06348635358468732, 5.827918410762714, 15.24468758471025, 6.184229918590594, 94.29176776592747, 0.06198675509719636, 3.9770396891395667, 0.034086496644936036, 0.0]]\n"
     ]
    }
   ],
   "source": [
    "culture_distances = []\n",
    "for culture in culture_categories_list:\n",
    "    culture_distances.append(compute_all_distances_from_culture(culture))\n",
    "    \n",
    "for row in range(len(culture_distances)):\n",
    "    # Apply function to each value\n",
    "    for col in range(len(culture_distances[row])):\n",
    "        if not (abs(culture_distances[row][col]) <= 0.00000001):\n",
    "            culture_distances[row][col] = (1/culture_distances[row][col]**5)*10000\n",
    "            \n",
    "print(culture_distances)"
   ]
  },
  {
   "cell_type": "code",
   "execution_count": null,
   "metadata": {},
   "outputs": [],
   "source": []
  },
  {
   "cell_type": "code",
   "execution_count": 351,
   "metadata": {},
   "outputs": [
    {
     "name": "stderr",
     "output_type": "stream",
     "text": [
      "100%|███████████████████████████████████████████████████████████████████████| 200000/200000 [00:05<00:00, 33516.89it/s]"
     ]
    },
    {
     "name": "stdout",
     "output_type": "stream",
     "text": [
      "BarnesHut Approximation  took  1.61  seconds\n",
      "Repulsion forces  took  2.25  seconds\n",
      "Gravitational forces  took  0.27  seconds\n",
      "Attraction forces  took  0.21  seconds\n",
      "AdjustSpeedAndApplyForces step  took  0.88  seconds\n"
     ]
    },
    {
     "name": "stderr",
     "output_type": "stream",
     "text": [
      "\n"
     ]
    },
    {
     "data": {
      "image/png": "[encoded data removed]",
      "text/plain": [
       "<Figure size 576x576 with 1 Axes>"
      ]
     },
     "metadata": {
      "needs_background": "light"
     },
     "output_type": "display_data"
    }
   ],
   "source": [
    "# import networkx as nx\n",
    "from fa2 import ForceAtlas2\n",
    "import matplotlib.pyplot as plt\n",
    "import numpy as np\n",
    "\n",
    "G = np.array(culture_distances)\n",
    "pos = np.array([[-30,2],\n",
    "               [-10,10],\n",
    "               [30,0],\n",
    "               [-3,7],\n",
    "               [-5,5],\n",
    "               [-7,0],\n",
    "               [0,6],\n",
    "               [20,-10],\n",
    "               [5,-5],\n",
    "               [35,5],\n",
    "               [-10,-5]])\n",
    "\n",
    "forceatlas2 = ForceAtlas2(\n",
    "                        # Behavior alternatives\n",
    "                        outboundAttractionDistribution=True,  # Dissuade hubs\n",
    "                        linLogMode=False,  # NOT IMPLEMENTED\n",
    "                        adjustSizes=False,  # Prevent overlap (NOT IMPLEMENTED)\n",
    "                        edgeWeightInfluence=1.0,\n",
    "\n",
    "                        # Performance\n",
    "                        jitterTolerance=1.0,  # Tolerance\n",
    "                        barnesHutOptimize=True,\n",
    "                        barnesHutTheta=1.2,\n",
    "                        multiThreaded=False,  # NOT IMPLEMENTED\n",
    "\n",
    "                        # Tuning\n",
    "                        scalingRatio=2.0,\n",
    "                        strongGravityMode=False,\n",
    "                        gravity=1.0,\n",
    "\n",
    "                        # Log\n",
    "                        verbose=True)\n",
    "\n",
    "positions = forceatlas2.forceatlas2(G, pos=pos, iterations=200000)\n",
    "\n",
    "# positions = [[-30,2],\n",
    "#                [-10,10],\n",
    "#                [30,0],\n",
    "#                [-3,7],\n",
    "#                [-5,5],\n",
    "#                [-7,0],\n",
    "#                [0,6],\n",
    "#                [20,-10],\n",
    "#                [5,-5],\n",
    "#                [35,5],\n",
    "#                [-10,-5]]\n",
    "\n",
    "x = [point[0] for point in positions]\n",
    "y = [point[1] for point in positions]\n",
    "\n",
    "colors = colors = [\"#ff0000\", \"#ff8c00\", \"#eaff00\", \"#5eff00\", \"#00ff2f\", \"#00ffbb\", \"#00bbff\", \"#002fff\", \"#5d00ff\", \"#ea00ff\", \"#ff0088\"]\n",
    "\n",
    "plt.scatter(x, y, c=colors)\n",
    "\n",
    "fig = plt.gcf()\n",
    "fig.set_size_inches(8,8)\n",
    "\n",
    "# ax = plt.gca()\n",
    "# ax.set_xlim([-50,50])\n",
    "# ax.set_ylim([-50,50])\n",
    "\n",
    "# nx.draw_networkx_nodes(G, positions, node_size=20, with_labels=False, node_color=\"blue\", alpha=0.4)\n",
    "# nx.draw_networkx_edges(G, positions, edge_color=\"green\", alpha=0.05)\n",
    "\n",
    "# plt.axis('off')\n",
    "plt.show()\n",
    "\n",
    "# equivalently\n",
    "# import igraph\n",
    "# G = igraph.Graph.TupleList(G.edges(), directed=False)\n",
    "# layout = forceatlas2.forceatlas2_igraph_layout(G, pos=None, iterations=2000)\n",
    "# igraph.plot(G, layout).show()"
   ]
  }
 ],
 "metadata": {
  "kernelspec": {
   "display_name": "Python 3",
   "language": "python",
   "name": "python3"
  },
  "language_info": {
   "codemirror_mode": {
    "name": "ipython",
    "version": 3
   },
   "file_extension": ".py",
   "mimetype": "text/x-python",
   "name": "python",
   "nbconvert_exporter": "python",
   "pygments_lexer": "ipython3",
   "version": "3.7.3"
  }
 },
 "nbformat": 4,
 "nbformat_minor": 2
}

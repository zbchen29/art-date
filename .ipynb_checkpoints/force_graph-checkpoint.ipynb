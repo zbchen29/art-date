{
 "cells": [
  {
   "cell_type": "code",
   "execution_count": 2,
   "metadata": {},
   "outputs": [],
   "source": [
    "import torch"
   ]
  },
  {
   "cell_type": "code",
   "execution_count": 34,
   "metadata": {},
   "outputs": [],
   "source": [
    "# Average Euclidean center of all image outputs for each culture using best model\n",
    "culture_tensors = {\n",
    "    \"american\" : torch.tensor([[ 7.0664,  1.6778, -1.8836, -0.8605, -1.1828,  0.9407, -0.0519, -1.8947, -1.8577, -0.9771, -0.6822]]),\n",
    "    \"british\" : torch.tensor([[ 1.3715e+00,  3.6504e+00, -2.1580e+00, -2.0042e-03,  3.3697e-01, 2.0065e+00,  9.8763e-01, -2.6181e+00, -1.0272e+00, -2.6346e+00, -2.5038e-01]]),\n",
    "    \"chinese\" : torch.tensor([[-0.6801, -1.5646,  7.2309, -1.5411, -1.5731, -0.1273, -1.0995,  0.2166, -1.4205,  2.1701, -0.9345]]),\n",
    "    \"dutch\" : torch.tensor([[-0.7726,  0.0573, -2.4268,  3.7708,  0.8802,  1.4279,  1.2017, -3.0107, 1.2312, -3.2050,  0.4194]]),\n",
    "    \"flemish\" : torch.tensor([[-0.5941,  0.9288, -2.2716,  1.5399,  1.8579,  1.8715,  0.8328, -2.9006, 1.2896, -2.9780,  0.3761]]),\n",
    "    \"french\" : torch.tensor([[ 0.2759,  0.8285, -2.0896,  0.7542,  0.6249,  3.9568,  0.4689, -3.0201, 0.2730, -2.1955, -0.0474]]),\n",
    "    \"german\" : torch.tensor([[-0.1850,  0.7377, -2.0441,  1.2382,  0.3095,  1.1902,  1.7258, -2.0748, 1.1933, -2.6024,  0.3569]]),\n",
    "    \"indian\" : torch.tensor([[-0.6212, -2.5173,  1.3177, -2.3141, -2.8249, -1.3583, -0.5100,  7.6875, -0.5083,  0.6289,  0.6106]]),\n",
    "    \"italian\" : torch.tensor([[-1.8449, -1.1914, -2.2632,  0.9813,  0.5290,  0.8880,  1.4288, -1.7552, 5.1137, -2.9153,  0.9664]]),\n",
    "    \"japanese\" : torch.tensor([[ 0.1553, -2.1064,  2.4003, -2.0872, -2.0149, -0.1749, -1.4981,  0.2818, -1.4746,  8.0753, -0.9232]]),\n",
    "    \"spanish\" : torch.tensor([[-0.6073, -0.2381, -1.3960,  0.5750,  0.0869,  1.0328,  0.6943, -0.9015, 0.9975, -2.0954,  1.6449]])\n",
    "}\n",
    "\n",
    "culture_categories_list = [\"american\",\n",
    "                           \"british\",\n",
    "                           \"chinese\",\n",
    "                           \"dutch\",\n",
    "                           \"flemish\",\n",
    "                           \"french\",\n",
    "                           \"german\",\n",
    "                           \"indian\",\n",
    "                           \"italian\",\n",
    "                           \"japanese\",\n",
    "                           \"spanish\"]"
   ]
  },
  {
   "cell_type": "code",
   "execution_count": 35,
   "metadata": {},
   "outputs": [],
   "source": [
    "def compute_distance_between_cultures(culture1, culture2):\n",
    "    '''Computes the Euclidean distance between two culture centers'''\n",
    "    return torch.dist(culture_tensors[culture1], culture_tensors[culture2]).item()\n",
    "\n",
    "def compute_all_distances_from_culture(culture1):\n",
    "    '''Computes the Eucliean distance of all cultures from the specified culture'''\n",
    "    results = []\n",
    "    for culture2 in culture_categories_list:\n",
    "        results.append((culture2, compute_distance_between_cultures(culture1, culture2)))\n",
    "    \n",
    "    return [x[1] for x in results]"
   ]
  },
  {
   "cell_type": "code",
   "execution_count": 202,
   "metadata": {},
   "outputs": [
    {
     "name": "stdout",
     "output_type": "stream",
     "text": [
      "[[0.0, 0.2183005070617161, 0.05845682796127124, 0.09187071407758884, 0.10858637896930198, 0.1432425823802935, 0.1308751742277466, 0.05124497525534914, 0.0660502974909412, 0.05785146943462789, 0.12071928200224352], [0.2183005070617161, 0.0, 0.06015888358564035, 0.25961885863607737, 0.45507796477364115, 0.6257128847716148, 0.5190704335985339, 0.04978437535066004, 0.13112460631247314, 0.050005273856405595, 0.312741652198018], [0.05845682796127124, 0.06015888358564035, 0.0, 0.05375444181848748, 0.05854889331938393, 0.06412662312922997, 0.06707579365468733, 0.0987034836136178, 0.053793258696817954, 0.1670581864032099, 0.08338197034190067], [0.09187071407758884, 0.25961885863607737, 0.05375444181848748, 0.0, 1.3985857942337847, 0.49849402604679766, 1.0787486424595922, 0.04665657418575122, 0.3569288885657184, 0.04374284770260857, 0.5083998166476132], [0.10858637896930198, 0.45507796477364115, 0.05854889331938393, 1.3985857942337847, 0.0, 1.080145669071574, 2.066762414636249, 0.049460608285732066, 0.38837390162318886, 0.04739154910605098, 0.7468741209069251], [0.1432425823802935, 0.6257128847716148, 0.06412662312922997, 0.49849402604679766, 1.080145669071574, 0.0, 0.8431759494622205, 0.050554508833558956, 0.21936612539292774, 0.05405916746995205, 0.5206120919600445], [0.1308751742277466, 0.5190704335985339, 0.06707579365468733, 1.0787486424595922, 2.066762414636249, 0.8431759494622205, 0.0, 0.06070628827835553, 0.4393772089296938, 0.05405442199318652, 1.5480661382096086], [0.05124497525534914, 0.04978437535066004, 0.0987034836136178, 0.04665657418575122, 0.049460608285732066, 0.050554508833558956, 0.06070628827835553, 0.0, 0.055416757064344555, 0.08431153842261957, 0.08258849668356086], [0.0660502974909412, 0.13112460631247314, 0.053793258696817954, 0.3569288885657184, 0.38837390162318886, 0.21936612539292774, 0.4393772089296938, 0.055416757064344555, 0.0, 0.04462516043094859, 0.4363389377574498], [0.05785146943462789, 0.050005273856405595, 0.1670581864032099, 0.04374284770260857, 0.04739154910605098, 0.05405916746995205, 0.05405442199318652, 0.08431153842261957, 0.04462516043094859, 0.0, 0.06501790131412949], [0.12071928200224352, 0.312741652198018, 0.08338197034190067, 0.5083998166476132, 0.7468741209069251, 0.5206120919600445, 1.5480661382096086, 0.08258849668356086, 0.4363389377574498, 0.06501790131412949, 0.0]]\n"
     ]
    }
   ],
   "source": [
    "culture_distances = []\n",
    "for culture in culture_categories_list:\n",
    "    culture_distances.append(compute_all_distances_from_culture(culture))\n",
    "    \n",
    "for row in range(len(culture_distances)):\n",
    "    # Apply function to each value\n",
    "    for col in range(len(culture_distances[row])):\n",
    "        if not (abs(culture_distances[row][col]) <= 0.00000001):\n",
    "            culture_distances[row][col] = (1/culture_distances[row][col]**2)*10\n",
    "            \n",
    "print(culture_distances)"
   ]
  },
  {
   "cell_type": "code",
   "execution_count": null,
   "metadata": {},
   "outputs": [],
   "source": []
  },
  {
   "cell_type": "code",
   "execution_count": 203,
   "metadata": {},
   "outputs": [
    {
     "name": "stderr",
     "output_type": "stream",
     "text": [
      "100%|█████████████████████████████████████████████████████████████████████████| 25000/25000 [00:00<00:00, 32523.51it/s]\n"
     ]
    },
    {
     "name": "stdout",
     "output_type": "stream",
     "text": [
      "BarnesHut Approximation  took  0.17  seconds\n",
      "Repulsion forces  took  0.29  seconds\n",
      "Gravitational forces  took  0.04  seconds\n",
      "Attraction forces  took  0.03  seconds\n",
      "AdjustSpeedAndApplyForces step  took  0.13  seconds\n"
     ]
    },
    {
     "data": {
      "image/png": "[encoded data removed]",
      "text/plain": [
       "<Figure size 576x576 with 1 Axes>"
      ]
     },
     "metadata": {
      "needs_background": "light"
     },
     "output_type": "display_data"
    }
   ],
   "source": [
    "# import networkx as nx\n",
    "from fa2 import ForceAtlas2\n",
    "import matplotlib.pyplot as plt\n",
    "import numpy as np\n",
    "\n",
    "G = np.array(culture_distances)\n",
    "\n",
    "forceatlas2 = ForceAtlas2(\n",
    "                        # Behavior alternatives\n",
    "                        outboundAttractionDistribution=True,  # Dissuade hubs\n",
    "                        linLogMode=False,  # NOT IMPLEMENTED\n",
    "                        adjustSizes=False,  # Prevent overlap (NOT IMPLEMENTED)\n",
    "                        edgeWeightInfluence=1.0,\n",
    "\n",
    "                        # Performance\n",
    "                        jitterTolerance=1.0,  # Tolerance\n",
    "                        barnesHutOptimize=True,\n",
    "                        barnesHutTheta=1.2,\n",
    "                        multiThreaded=False,  # NOT IMPLEMENTED\n",
    "\n",
    "                        # Tuning\n",
    "                        scalingRatio=2.0,\n",
    "                        strongGravityMode=False,\n",
    "                        gravity=1.0,\n",
    "\n",
    "                        # Log\n",
    "                        verbose=True)\n",
    "\n",
    "positions = forceatlas2.forceatlas2(G, pos=None, iterations=25000)\n",
    "\n",
    "x = [point[0] for point in positions]\n",
    "y = [point[1] for point in positions]\n",
    "\n",
    "# colors = colors = [\"#ff0000\", \"#ff8c00\", \"#eaff00\", \"#5eff00\", \"#00ff2f\", \"#00ffbb\", \"#00bbff\", \"#002fff\", \"#5d00ff\", \"#ea00ff\", \"#ff0088\"]\n",
    "colors = colors = [\"#ff0000\", \"#ff8c00\", \"black\", \"#5eff00\", \"#00ff2f\", \"#00ffbb\", \"#00bbff\", \"black\", \"#5d00ff\", \"black\", \"#ff0088\"]\n",
    "\n",
    "plt.scatter(x, y, c=colors)\n",
    "\n",
    "fig = plt.gcf()\n",
    "fig.set_size_inches(8,8)\n",
    "\n",
    "# ax = plt.gca()\n",
    "# ax.set_xlim([-100,100])\n",
    "# ax.set_ylim([-100,100])\n",
    "\n",
    "# nx.draw_networkx_nodes(G, positions, node_size=20, with_labels=False, node_color=\"blue\", alpha=0.4)\n",
    "# nx.draw_networkx_edges(G, positions, edge_color=\"green\", alpha=0.05)\n",
    "\n",
    "# plt.axis('off')\n",
    "plt.show()\n",
    "\n",
    "# equivalently\n",
    "# import igraph\n",
    "# G = igraph.Graph.TupleList(G.edges(), directed=False)\n",
    "# layout = forceatlas2.forceatlas2_igraph_layout(G, pos=None, iterations=2000)\n",
    "# igraph.plot(G, layout).show()"
   ]
  }
 ],
 "metadata": {
  "kernelspec": {
   "display_name": "Python 3",
   "language": "python",
   "name": "python3"
  },
  "language_info": {
   "codemirror_mode": {
    "name": "ipython",
    "version": 3
   },
   "file_extension": ".py",
   "mimetype": "text/x-python",
   "name": "python",
   "nbconvert_exporter": "python",
   "pygments_lexer": "ipython3",
   "version": "3.7.3"
  }
 },
 "nbformat": 4,
 "nbformat_minor": 2
}

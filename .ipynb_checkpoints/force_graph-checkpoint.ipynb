{
 "cells": [
  {
   "cell_type": "code",
   "execution_count": 2,
   "metadata": {},
   "outputs": [],
   "source": [
    "import torch"
   ]
  },
  {
   "cell_type": "code",
   "execution_count": 34,
   "metadata": {},
   "outputs": [],
   "source": [
    "# Average Euclidean center of all image outputs for each culture using best model\n",
    "culture_tensors = {\n",
    "    \"american\" : torch.tensor([[ 7.0664,  1.6778, -1.8836, -0.8605, -1.1828,  0.9407, -0.0519, -1.8947, -1.8577, -0.9771, -0.6822]]),\n",
    "    \"british\" : torch.tensor([[ 1.3715e+00,  3.6504e+00, -2.1580e+00, -2.0042e-03,  3.3697e-01, 2.0065e+00,  9.8763e-01, -2.6181e+00, -1.0272e+00, -2.6346e+00, -2.5038e-01]]),\n",
    "    \"chinese\" : torch.tensor([[-0.6801, -1.5646,  7.2309, -1.5411, -1.5731, -0.1273, -1.0995,  0.2166, -1.4205,  2.1701, -0.9345]]),\n",
    "    \"dutch\" : torch.tensor([[-0.7726,  0.0573, -2.4268,  3.7708,  0.8802,  1.4279,  1.2017, -3.0107, 1.2312, -3.2050,  0.4194]]),\n",
    "    \"flemish\" : torch.tensor([[-0.5941,  0.9288, -2.2716,  1.5399,  1.8579,  1.8715,  0.8328, -2.9006, 1.2896, -2.9780,  0.3761]]),\n",
    "    \"french\" : torch.tensor([[ 0.2759,  0.8285, -2.0896,  0.7542,  0.6249,  3.9568,  0.4689, -3.0201, 0.2730, -2.1955, -0.0474]]),\n",
    "    \"german\" : torch.tensor([[-0.1850,  0.7377, -2.0441,  1.2382,  0.3095,  1.1902,  1.7258, -2.0748, 1.1933, -2.6024,  0.3569]]),\n",
    "    \"indian\" : torch.tensor([[-0.6212, -2.5173,  1.3177, -2.3141, -2.8249, -1.3583, -0.5100,  7.6875, -0.5083,  0.6289,  0.6106]]),\n",
    "    \"italian\" : torch.tensor([[-1.8449, -1.1914, -2.2632,  0.9813,  0.5290,  0.8880,  1.4288, -1.7552, 5.1137, -2.9153,  0.9664]]),\n",
    "    \"japanese\" : torch.tensor([[ 0.1553, -2.1064,  2.4003, -2.0872, -2.0149, -0.1749, -1.4981,  0.2818, -1.4746,  8.0753, -0.9232]]),\n",
    "    \"spanish\" : torch.tensor([[-0.6073, -0.2381, -1.3960,  0.5750,  0.0869,  1.0328,  0.6943, -0.9015, 0.9975, -2.0954,  1.6449]])\n",
    "}\n",
    "\n",
    "culture_categories_list = [\"american\",\n",
    "                           \"british\",\n",
    "                           \"chinese\",\n",
    "                           \"dutch\",\n",
    "                           \"flemish\",\n",
    "                           \"french\",\n",
    "                           \"german\",\n",
    "                           \"indian\",\n",
    "                           \"italian\",\n",
    "                           \"japanese\",\n",
    "                           \"spanish\"]"
   ]
  },
  {
   "cell_type": "code",
   "execution_count": 35,
   "metadata": {},
   "outputs": [],
   "source": [
    "def compute_distance_between_cultures(culture1, culture2):\n",
    "    '''Computes the Euclidean distance between two culture centers'''\n",
    "    return torch.dist(culture_tensors[culture1], culture_tensors[culture2]).item()\n",
    "\n",
    "def compute_all_distances_from_culture(culture1):\n",
    "    '''Computes the Eucliean distance of all cultures from the specified culture'''\n",
    "    results = []\n",
    "    for culture2 in culture_categories_list:\n",
    "        results.append((culture2, compute_distance_between_cultures(culture1, culture2)))\n",
    "    \n",
    "    return [x[1] for x in results]"
   ]
  },
  {
   "cell_type": "code",
   "execution_count": 287,
   "metadata": {},
   "outputs": [
    {
     "name": "stdout",
     "output_type": "stream",
     "text": [
      "[[0.0, 0.47655111383402365, 0.03417200735293663, 0.08440228105126081, 0.11791001697664866, 0.20518437406975168, 0.17128311229143028, 0.026260474889213462, 0.04362641798641833, 0.03346792515745685, 0.14573145047137195], [0.47655111383402365, 0.0, 0.036190912742706284, 0.6740195175949951, 2.070959540225194, 3.91516614169216, 2.6943411503617005, 0.024784840290554073, 0.17193662380601069, 0.025005274134541212, 0.9780734101954608], [0.03417200735293663, 0.036190912742706284, 0.0, 0.028895400152171558, 0.034279729089246, 0.041122237939582924, 0.04499162094406193, 0.09742377677463719, 0.028937146812227803, 0.27908437644329626, 0.06952552978097605], [0.08440228105126081, 0.6740195175949951, 0.028895400152171558, 0.0, 19.56042223832547, 2.4849629400434536, 11.636986336084133, 0.021768359147505065, 1.2739823149275902, 0.019134367251336076, 2.5847037356732674], [0.11791001697664866, 2.070959540225194, 0.034279729089246, 19.56042223832547, 0.0, 11.667146664140782, 42.71506878553059, 0.024463517719946284, 1.5083428746201837, 0.022459589266712418, 5.57820952480492], [0.20518437406975168, 3.91516614169216, 0.041122237939582924, 2.4849629400434536, 11.667146664140782, 0.0, 7.10945681751517, 0.025557583634023905, 0.4812149696990571, 0.029223935875443217, 2.710369502950139], [0.17128311229143028, 2.6943411503617005, 0.04499162094406193, 11.636986336084133, 42.71506878553059, 7.10945681751517, 0.0, 0.036852534365348064, 1.9305233172684777, 0.02921880537017486, 23.96508768271211], [0.026260474889213462, 0.024784840290554073, 0.09742377677463719, 0.021768359147505065, 0.024463517719946284, 0.025557583634023905, 0.036852534365348064, 0.0, 0.030710169635285823, 0.07108435511188857, 0.06820859784450545], [0.04362641798641833, 0.17193662380601069, 0.028937146812227803, 1.2739823149275902, 1.5083428746201837, 0.4812149696990571, 1.9305233172684777, 0.030710169635285823, 0.0, 0.019914049434879, 1.903916686032997], [0.03346792515745685, 0.025005274134541212, 0.27908437644329626, 0.019134367251336076, 0.022459589266712418, 0.029223935875443217, 0.02921880537017486, 0.07108435511188857, 0.019914049434879, 0.0, 0.04227327491293882], [0.14573145047137195, 0.9780734101954608, 0.06952552978097605, 2.5847037356732674, 5.57820952480492, 2.710369502950139, 23.96508768271211, 0.06820859784450545, 1.903916686032997, 0.04227327491293882, 0.0]]\n"
     ]
    }
   ],
   "source": [
    "culture_distances = []\n",
    "for culture in culture_categories_list:\n",
    "    culture_distances.append(compute_all_distances_from_culture(culture))\n",
    "    \n",
    "for row in range(len(culture_distances)):\n",
    "    # Apply function to each value\n",
    "    for col in range(len(culture_distances[row])):\n",
    "        if not (abs(culture_distances[row][col]) <= 0.00000001):\n",
    "            culture_distances[row][col] = (1/culture_distances[row][col]**4)*1000\n",
    "            \n",
    "print(culture_distances)"
   ]
  },
  {
   "cell_type": "code",
   "execution_count": null,
   "metadata": {},
   "outputs": [],
   "source": []
  },
  {
   "cell_type": "code",
   "execution_count": 318,
   "metadata": {},
   "outputs": [
    {
     "data": {
      "image/png": "[encoded data removed]",
      "text/plain": [
       "<Figure size 576x576 with 1 Axes>"
      ]
     },
     "metadata": {
      "needs_background": "light"
     },
     "output_type": "display_data"
    }
   ],
   "source": [
    "# import networkx as nx\n",
    "from fa2 import ForceAtlas2\n",
    "import matplotlib.pyplot as plt\n",
    "import numpy as np\n",
    "\n",
    "G = np.array(culture_distances)\n",
    "pos = np.array([[-30,2],\n",
    "               [-10,10],\n",
    "               [30,0],\n",
    "               [-3,7],\n",
    "               [-5,5],\n",
    "               [-7,0],\n",
    "               [0,9],\n",
    "               [20,-10],\n",
    "               [0,0],\n",
    "               [35,5],\n",
    "               [-10,-5]])\n",
    "\n",
    "forceatlas2 = ForceAtlas2(\n",
    "                        # Behavior alternatives\n",
    "                        outboundAttractionDistribution=True,  # Dissuade hubs\n",
    "                        linLogMode=False,  # NOT IMPLEMENTED\n",
    "                        adjustSizes=False,  # Prevent overlap (NOT IMPLEMENTED)\n",
    "                        edgeWeightInfluence=1.0,\n",
    "\n",
    "                        # Performance\n",
    "                        jitterTolerance=1.0,  # Tolerance\n",
    "                        barnesHutOptimize=True,\n",
    "                        barnesHutTheta=1.2,\n",
    "                        multiThreaded=False,  # NOT IMPLEMENTED\n",
    "\n",
    "                        # Tuning\n",
    "                        scalingRatio=2.0,\n",
    "                        strongGravityMode=False,\n",
    "                        gravity=1.0,\n",
    "\n",
    "                        # Log\n",
    "                        verbose=True)\n",
    "\n",
    "# positions = forceatlas2.forceatlas2(G, pos=pos, iterations=0)\n",
    "\n",
    "positions = [[-30,2],\n",
    "               [-10,10],\n",
    "               [30,0],\n",
    "               [-3,7],\n",
    "               [-5,5],\n",
    "               [-7,0],\n",
    "               [0,9],\n",
    "               [20,-10],\n",
    "               [0,0],\n",
    "               [35,5],\n",
    "               [-10,-5]]\n",
    "\n",
    "x = [point[0] for point in positions]\n",
    "y = [point[1] for point in positions]\n",
    "\n",
    "colors = colors = [\"#ff0000\", \"#ff8c00\", \"#eaff00\", \"#5eff00\", \"#00ff2f\", \"#00ffbb\", \"#00bbff\", \"#002fff\", \"#5d00ff\", \"#ea00ff\", \"#ff0088\"]\n",
    "\n",
    "plt.scatter(x, y, c=colors)\n",
    "\n",
    "fig = plt.gcf()\n",
    "fig.set_size_inches(8,8)\n",
    "\n",
    "ax = plt.gca()\n",
    "ax.set_xlim([-100,100])\n",
    "ax.set_ylim([-100,100])\n",
    "\n",
    "# nx.draw_networkx_nodes(G, positions, node_size=20, with_labels=False, node_color=\"blue\", alpha=0.4)\n",
    "# nx.draw_networkx_edges(G, positions, edge_color=\"green\", alpha=0.05)\n",
    "\n",
    "# plt.axis('off')\n",
    "plt.show()\n",
    "\n",
    "# equivalently\n",
    "# import igraph\n",
    "# G = igraph.Graph.TupleList(G.edges(), directed=False)\n",
    "# layout = forceatlas2.forceatlas2_igraph_layout(G, pos=None, iterations=2000)\n",
    "# igraph.plot(G, layout).show()"
   ]
  }
 ],
 "metadata": {
  "kernelspec": {
   "display_name": "Python 3",
   "language": "python",
   "name": "python3"
  },
  "language_info": {
   "codemirror_mode": {
    "name": "ipython",
    "version": 3
   },
   "file_extension": ".py",
   "mimetype": "text/x-python",
   "name": "python",
   "nbconvert_exporter": "python",
   "pygments_lexer": "ipython3",
   "version": "3.7.3"
  }
 },
 "nbformat": 4,
 "nbformat_minor": 2
}
